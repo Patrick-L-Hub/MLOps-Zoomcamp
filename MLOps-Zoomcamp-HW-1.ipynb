{
 "cells": [
  {
   "cell_type": "markdown",
   "id": "420cdde0",
   "metadata": {},
   "source": [
    "## Q1. Downloading the data\n",
    "- We'll use the same NYC taxi dataset, but instead of \"Green Taxi Trip Records\", we'll use \"For-Hire Vehicle Trip Records\".\n",
    "\n",
    "- Download the data for January and February 2021.\n",
    "\n",
    "- Note that you need \"For-Hire Vehicle Trip Records\", not \"High Volume For-Hire Vehicle Trip Records\".\n",
    "\n",
    "- Read the data for January. How many records are there?"
   ]
  },
  {
   "cell_type": "code",
   "execution_count": 69,
   "id": "88be82fc",
   "metadata": {},
   "outputs": [],
   "source": [
    "import pandas as pd\n",
    "import seaborn as sns\n",
    "import matplotlib.pyplot as plt\n",
    "from sklearn.feature_extraction import DictVectorizer\n",
    "from sklearn.metrics import mean_squared_error\n",
    "from sklearn.linear_model import LinearRegression"
   ]
  },
  {
   "cell_type": "code",
   "execution_count": 70,
   "id": "75acd362",
   "metadata": {},
   "outputs": [],
   "source": [
    "df = pd.read_parquet('data/fhv_tripdata_2021-01.parquet')"
   ]
  },
  {
   "cell_type": "code",
   "execution_count": 71,
   "id": "fc01bc5e",
   "metadata": {},
   "outputs": [],
   "source": [
    "initial_length = len(df)"
   ]
  },
  {
   "cell_type": "code",
   "execution_count": 72,
   "id": "1d2894ff",
   "metadata": {},
   "outputs": [
    {
     "data": {
      "text/plain": [
       "1154112"
      ]
     },
     "execution_count": 72,
     "metadata": {},
     "output_type": "execute_result"
    }
   ],
   "source": [
    "initial_length"
   ]
  },
  {
   "cell_type": "markdown",
   "id": "2ef7b186",
   "metadata": {},
   "source": [
    "## Q.2 Computing duration\n",
    "- Now let's compute the duration variable. It should contain the duration of a ride in minutes.\n",
    "\n",
    "- What's the average trip duration in January?"
   ]
  },
  {
   "cell_type": "code",
   "execution_count": 73,
   "id": "46b04056",
   "metadata": {},
   "outputs": [],
   "source": [
    "df['duration'] = (df.dropOff_datetime - df.pickup_datetime).apply(lambda td: td.total_seconds() /60)"
   ]
  },
  {
   "cell_type": "code",
   "execution_count": 74,
   "id": "4eebab2b",
   "metadata": {},
   "outputs": [
    {
     "data": {
      "text/plain": [
       "19.167"
      ]
     },
     "execution_count": 74,
     "metadata": {},
     "output_type": "execute_result"
    }
   ],
   "source": [
    "round(df.duration.mean(),3)"
   ]
  },
  {
   "cell_type": "markdown",
   "id": "38eb530a",
   "metadata": {},
   "source": [
    "# Data preparation\n",
    "- Check the distribution of the duration variable. There are some outliers.\n",
    "\n",
    "- Let's remove them and keep only the records where the duration was between 1 and 60 minutes (inclusive).\n",
    "\n",
    "- How many records did you drop?"
   ]
  },
  {
   "cell_type": "code",
   "execution_count": 75,
   "id": "6685a20c",
   "metadata": {},
   "outputs": [
    {
     "data": {
      "text/plain": [
       "44286"
      ]
     },
     "execution_count": 75,
     "metadata": {},
     "output_type": "execute_result"
    }
   ],
   "source": [
    "df = df[((df.duration >=1) & (df.duration <= 60))].copy()\n",
    "cleaned_length = len(df)\n",
    "initial_length - cleaned_length"
   ]
  },
  {
   "cell_type": "markdown",
   "id": "832b9c62",
   "metadata": {},
   "source": [
    "## Q3. Missing values\n",
    "- The features we'll use for our model are the pickup and dropoff location IDs.\n",
    "\n",
    "- But they have a lot of missing values there. Let's replace them with \"-1\".\n",
    "\n",
    "- What's the fractions of missing values for the pickup location ID? I.e. fraction of \"-1\"s after you filled the NAs."
   ]
  },
  {
   "cell_type": "code",
   "execution_count": 100,
   "id": "72f3c42c",
   "metadata": {},
   "outputs": [
    {
     "data": {
      "text/plain": [
       "0.8352732770722617"
      ]
     },
     "execution_count": 100,
     "metadata": {},
     "output_type": "execute_result"
    }
   ],
   "source": [
    "df.dtypes\n",
    "df.PUlocationID = df.PUlocationID.fillna(-1).astype('int')\n",
    "df.DOlocationID = df.DOlocationID.fillna(-1).astype('int')\n",
    "df.PUlocationID.value_counts()[-1]/(len(df))"
   ]
  },
  {
   "cell_type": "markdown",
   "id": "da9e1194",
   "metadata": {},
   "source": [
    "## Q4. One-hot encoding\n",
    "- Let's apply one-hot encoding to the pickup and dropoff location IDs. We'll use only these two features for our model.\n",
    "\n",
    "- Turn the dataframe into a list of dictionaries\n",
    "- Fit a dictionary vectorizer\n",
    "- Get a feature matrix from it\n",
    "- What's the dimensionality of this matrix? (The number of columns)."
   ]
  },
  {
   "cell_type": "code",
   "execution_count": 101,
   "id": "c0dfc153",
   "metadata": {},
   "outputs": [],
   "source": [
    "dv = DictVectorizer()\n",
    "\n",
    "categorical = ['PUlocationID','DOlocationID']\n",
    "\n",
    "df_dict = df[categorical].astype('str').to_dict(orient='records')\n",
    "X_train = dv.fit_transform(df_dict)"
   ]
  },
  {
   "cell_type": "code",
   "execution_count": 102,
   "id": "1b6ce804",
   "metadata": {},
   "outputs": [
    {
     "data": {
      "text/plain": [
       "(1109826, 525)"
      ]
     },
     "execution_count": 102,
     "metadata": {},
     "output_type": "execute_result"
    }
   ],
   "source": [
    "X_train.shape #Num cols is second number ie the number of features"
   ]
  },
  {
   "cell_type": "markdown",
   "id": "8eef85ff",
   "metadata": {},
   "source": [
    "## Q5. Training a model\n",
    "- Now let's use the feature matrix from the previous step to train a model.\n",
    "\n",
    "- Train a plain linear regression model with default parameters\n",
    "- Calculate the RMSE of the model on the training data\n",
    "- What's the RMSE on train?"
   ]
  },
  {
   "cell_type": "code",
   "execution_count": 103,
   "id": "f16f8e38",
   "metadata": {},
   "outputs": [],
   "source": [
    "lr = LinearRegression()\n",
    "target = 'duration'\n",
    "y_train = df[target].values\n",
    "lr.fit(X_train,y_train)\n",
    "y_pred = lr.predict(X_train)"
   ]
  },
  {
   "cell_type": "code",
   "execution_count": 104,
   "id": "5a2a11dc",
   "metadata": {},
   "outputs": [
    {
     "data": {
      "text/plain": [
       "10.528519424941802"
      ]
     },
     "execution_count": 104,
     "metadata": {},
     "output_type": "execute_result"
    }
   ],
   "source": [
    "mean_squared_error(y_train,y_pred,squared=False)"
   ]
  },
  {
   "cell_type": "markdown",
   "id": "0213c504",
   "metadata": {},
   "source": [
    "## Q6. Evaluating the model\n",
    "- Now let's apply this model to the validation dataset (Feb 2021).\n",
    "\n",
    "- What's the RMSE on validation?"
   ]
  },
  {
   "cell_type": "code",
   "execution_count": 105,
   "id": "c4879e9d",
   "metadata": {},
   "outputs": [],
   "source": [
    "df_val = pd.read_parquet('data/fhv_tripdata_2021-02.parquet')"
   ]
  },
  {
   "cell_type": "code",
   "execution_count": 106,
   "id": "aba33182",
   "metadata": {},
   "outputs": [],
   "source": [
    "def clean_data(df):\n",
    "    df['duration'] = (df.dropOff_datetime - df.pickup_datetime).apply(lambda td: td.total_seconds() /60)\n",
    "\n",
    "    df = df[((df.duration >=1) & (df.duration <= 60))].copy()\n",
    "\n",
    "    df.PUlocationID = df.PUlocationID.fillna(-1).astype('int').astype('str')\n",
    "    df.DOlocationID = df.DOlocationID.fillna(-1).astype('int').astype('str')\n",
    "    \n",
    "    return df\n",
    "    "
   ]
  },
  {
   "cell_type": "code",
   "execution_count": 107,
   "id": "42883263",
   "metadata": {},
   "outputs": [],
   "source": [
    "df_val = clean_data(df_val)"
   ]
  },
  {
   "cell_type": "code",
   "execution_count": 108,
   "id": "c44f93db",
   "metadata": {},
   "outputs": [],
   "source": [
    "val_dict = df_val[categorical].to_dict(orient='records')\n",
    "X_val = dv.transform(val_dict)"
   ]
  },
  {
   "cell_type": "code",
   "execution_count": 109,
   "id": "9fa36278",
   "metadata": {},
   "outputs": [],
   "source": [
    "y_val = df_val.duration.values\n",
    "y_pred = lr.predict(X_val)"
   ]
  },
  {
   "cell_type": "code",
   "execution_count": 110,
   "id": "16ffe698",
   "metadata": {},
   "outputs": [
    {
     "data": {
      "text/plain": [
       "11.014287281120989"
      ]
     },
     "execution_count": 110,
     "metadata": {},
     "output_type": "execute_result"
    }
   ],
   "source": [
    "mean_squared_error(y_val,y_pred,squared=False)"
   ]
  },
  {
   "cell_type": "code",
   "execution_count": null,
   "id": "0a2e6157",
   "metadata": {},
   "outputs": [],
   "source": []
  },
  {
   "cell_type": "code",
   "execution_count": null,
   "id": "8819d004",
   "metadata": {},
   "outputs": [],
   "source": []
  }
 ],
 "metadata": {
  "kernelspec": {
   "display_name": "Python 3 (ipykernel)",
   "language": "python",
   "name": "python3"
  },
  "language_info": {
   "codemirror_mode": {
    "name": "ipython",
    "version": 3
   },
   "file_extension": ".py",
   "mimetype": "text/x-python",
   "name": "python",
   "nbconvert_exporter": "python",
   "pygments_lexer": "ipython3",
   "version": "3.9.13"
  }
 },
 "nbformat": 4,
 "nbformat_minor": 5
}
